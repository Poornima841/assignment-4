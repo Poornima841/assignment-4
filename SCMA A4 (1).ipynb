{
 "cells": [
  {
   "cell_type": "code",
   "execution_count": 4,
   "id": "4dc6a9bf",
   "metadata": {},
   "outputs": [],
   "source": [
    "import pandas as pd\n",
    "import numpy as np\n",
    "from sklearn.decomposition import PCA"
   ]
  },
  {
   "cell_type": "code",
   "execution_count": 6,
   "id": "d113c598",
   "metadata": {},
   "outputs": [
    {
     "name": "stdout",
     "output_type": "stream",
     "text": [
      "Collecting factor-analyzer\n",
      "  Downloading factor_analyzer-0.5.1.tar.gz (42 kB)\n",
      "     ---------------------------------------- 0.0/42.8 kB ? eta -:--:--\n",
      "     ------------------ ------------------- 20.5/42.8 kB 330.3 kB/s eta 0:00:01\n",
      "     -------------------------------------- 42.8/42.8 kB 417.7 kB/s eta 0:00:00\n",
      "  Installing build dependencies: started\n",
      "  Installing build dependencies: finished with status 'done'\n",
      "  Getting requirements to build wheel: started\n",
      "  Getting requirements to build wheel: finished with status 'done'\n",
      "  Preparing metadata (pyproject.toml): started\n",
      "  Preparing metadata (pyproject.toml): finished with status 'done'\n",
      "Requirement already satisfied: pandas in c:\\users\\poornima\\downloads\\python\\lib\\site-packages (from factor-analyzer) (2.1.4)\n",
      "Requirement already satisfied: scipy in c:\\users\\poornima\\downloads\\python\\lib\\site-packages (from factor-analyzer) (1.11.4)\n",
      "Requirement already satisfied: numpy in c:\\users\\poornima\\downloads\\python\\lib\\site-packages (from factor-analyzer) (1.26.4)\n",
      "Requirement already satisfied: scikit-learn in c:\\users\\poornima\\downloads\\python\\lib\\site-packages (from factor-analyzer) (1.2.2)\n",
      "Requirement already satisfied: python-dateutil>=2.8.2 in c:\\users\\poornima\\downloads\\python\\lib\\site-packages (from pandas->factor-analyzer) (2.8.2)\n",
      "Requirement already satisfied: pytz>=2020.1 in c:\\users\\poornima\\downloads\\python\\lib\\site-packages (from pandas->factor-analyzer) (2023.3.post1)\n",
      "Requirement already satisfied: tzdata>=2022.1 in c:\\users\\poornima\\downloads\\python\\lib\\site-packages (from pandas->factor-analyzer) (2023.3)\n",
      "Requirement already satisfied: joblib>=1.1.1 in c:\\users\\poornima\\downloads\\python\\lib\\site-packages (from scikit-learn->factor-analyzer) (1.2.0)\n",
      "Requirement already satisfied: threadpoolctl>=2.0.0 in c:\\users\\poornima\\downloads\\python\\lib\\site-packages (from scikit-learn->factor-analyzer) (2.2.0)\n",
      "Requirement already satisfied: six>=1.5 in c:\\users\\poornima\\downloads\\python\\lib\\site-packages (from python-dateutil>=2.8.2->pandas->factor-analyzer) (1.16.0)\n",
      "Building wheels for collected packages: factor-analyzer\n",
      "  Building wheel for factor-analyzer (pyproject.toml): started\n",
      "  Building wheel for factor-analyzer (pyproject.toml): finished with status 'done'\n",
      "  Created wheel for factor-analyzer: filename=factor_analyzer-0.5.1-py2.py3-none-any.whl size=42622 sha256=dc131a82530faea5e3da30ed1e567a00bfeb794810759a06b359e2ca2771998c\n",
      "  Stored in directory: c:\\users\\poornima\\appdata\\local\\pip\\cache\\wheels\\fa\\f7\\53\\a55a8a56668a6fe0199e0e02b6e0ae3007ec35cdf6e4c25df7\n",
      "Successfully built factor-analyzer\n",
      "Installing collected packages: factor-analyzer\n",
      "Successfully installed factor-analyzer-0.5.1\n",
      "Note: you may need to restart the kernel to use updated packages.\n"
     ]
    }
   ],
   "source": [
    "pip install factor-analyzer"
   ]
  },
  {
   "cell_type": "code",
   "execution_count": 5,
   "id": "eb020dc1",
   "metadata": {},
   "outputs": [
    {
     "name": "stdout",
     "output_type": "stream",
     "text": [
      "Requirement already satisfied: matplotlib in c:\\users\\poornima\\downloads\\python\\lib\\site-packages (3.8.0)\n",
      "Requirement already satisfied: contourpy>=1.0.1 in c:\\users\\poornima\\downloads\\python\\lib\\site-packages (from matplotlib) (1.2.0)\n",
      "Requirement already satisfied: cycler>=0.10 in c:\\users\\poornima\\downloads\\python\\lib\\site-packages (from matplotlib) (0.11.0)\n",
      "Requirement already satisfied: fonttools>=4.22.0 in c:\\users\\poornima\\downloads\\python\\lib\\site-packages (from matplotlib) (4.25.0)\n",
      "Requirement already satisfied: kiwisolver>=1.0.1 in c:\\users\\poornima\\downloads\\python\\lib\\site-packages (from matplotlib) (1.4.4)\n",
      "Requirement already satisfied: numpy<2,>=1.21 in c:\\users\\poornima\\downloads\\python\\lib\\site-packages (from matplotlib) (1.26.4)\n",
      "Requirement already satisfied: packaging>=20.0 in c:\\users\\poornima\\downloads\\python\\lib\\site-packages (from matplotlib) (23.1)\n",
      "Requirement already satisfied: pillow>=6.2.0 in c:\\users\\poornima\\downloads\\python\\lib\\site-packages (from matplotlib) (10.2.0)\n",
      "Requirement already satisfied: pyparsing>=2.3.1 in c:\\users\\poornima\\downloads\\python\\lib\\site-packages (from matplotlib) (3.0.9)\n",
      "Requirement already satisfied: python-dateutil>=2.7 in c:\\users\\poornima\\downloads\\python\\lib\\site-packages (from matplotlib) (2.8.2)\n",
      "Requirement already satisfied: six>=1.5 in c:\\users\\poornima\\downloads\\python\\lib\\site-packages (from python-dateutil>=2.7->matplotlib) (1.16.0)\n",
      "Note: you may need to restart the kernel to use updated packages.\n"
     ]
    }
   ],
   "source": [
    "pip install matplotlib"
   ]
  },
  {
   "cell_type": "code",
   "execution_count": 7,
   "id": "4141814c",
   "metadata": {},
   "outputs": [
    {
     "name": "stdout",
     "output_type": "stream",
     "text": [
      "Requirement already satisfied: scipy in c:\\users\\poornima\\downloads\\python\\lib\\site-packages (1.11.4)\n",
      "Requirement already satisfied: numpy<1.28.0,>=1.21.6 in c:\\users\\poornima\\downloads\\python\\lib\\site-packages (from scipy) (1.26.4)\n",
      "Note: you may need to restart the kernel to use updated packages.\n"
     ]
    }
   ],
   "source": [
    "pip install scipy"
   ]
  },
  {
   "cell_type": "code",
   "execution_count": 8,
   "id": "a83d6da8",
   "metadata": {},
   "outputs": [
    {
     "name": "stdout",
     "output_type": "stream",
     "text": [
      "Requirement already satisfied: seaborn in c:\\users\\poornima\\downloads\\python\\lib\\site-packages (0.12.2)\n",
      "Requirement already satisfied: numpy!=1.24.0,>=1.17 in c:\\users\\poornima\\downloads\\python\\lib\\site-packages (from seaborn) (1.26.4)\n",
      "Requirement already satisfied: pandas>=0.25 in c:\\users\\poornima\\downloads\\python\\lib\\site-packages (from seaborn) (2.1.4)\n",
      "Requirement already satisfied: matplotlib!=3.6.1,>=3.1 in c:\\users\\poornima\\downloads\\python\\lib\\site-packages (from seaborn) (3.8.0)\n",
      "Requirement already satisfied: contourpy>=1.0.1 in c:\\users\\poornima\\downloads\\python\\lib\\site-packages (from matplotlib!=3.6.1,>=3.1->seaborn) (1.2.0)\n",
      "Requirement already satisfied: cycler>=0.10 in c:\\users\\poornima\\downloads\\python\\lib\\site-packages (from matplotlib!=3.6.1,>=3.1->seaborn) (0.11.0)\n",
      "Requirement already satisfied: fonttools>=4.22.0 in c:\\users\\poornima\\downloads\\python\\lib\\site-packages (from matplotlib!=3.6.1,>=3.1->seaborn) (4.25.0)\n",
      "Requirement already satisfied: kiwisolver>=1.0.1 in c:\\users\\poornima\\downloads\\python\\lib\\site-packages (from matplotlib!=3.6.1,>=3.1->seaborn) (1.4.4)\n",
      "Requirement already satisfied: packaging>=20.0 in c:\\users\\poornima\\downloads\\python\\lib\\site-packages (from matplotlib!=3.6.1,>=3.1->seaborn) (23.1)\n",
      "Requirement already satisfied: pillow>=6.2.0 in c:\\users\\poornima\\downloads\\python\\lib\\site-packages (from matplotlib!=3.6.1,>=3.1->seaborn) (10.2.0)\n",
      "Requirement already satisfied: pyparsing>=2.3.1 in c:\\users\\poornima\\downloads\\python\\lib\\site-packages (from matplotlib!=3.6.1,>=3.1->seaborn) (3.0.9)\n",
      "Requirement already satisfied: python-dateutil>=2.7 in c:\\users\\poornima\\downloads\\python\\lib\\site-packages (from matplotlib!=3.6.1,>=3.1->seaborn) (2.8.2)\n",
      "Requirement already satisfied: pytz>=2020.1 in c:\\users\\poornima\\downloads\\python\\lib\\site-packages (from pandas>=0.25->seaborn) (2023.3.post1)\n",
      "Requirement already satisfied: tzdata>=2022.1 in c:\\users\\poornima\\downloads\\python\\lib\\site-packages (from pandas>=0.25->seaborn) (2023.3)\n",
      "Requirement already satisfied: six>=1.5 in c:\\users\\poornima\\downloads\\python\\lib\\site-packages (from python-dateutil>=2.7->matplotlib!=3.6.1,>=3.1->seaborn) (1.16.0)\n",
      "Note: you may need to restart the kernel to use updated packages.\n"
     ]
    }
   ],
   "source": [
    "pip install seaborn"
   ]
  },
  {
   "cell_type": "code",
   "execution_count": 9,
   "id": "535384a5",
   "metadata": {},
   "outputs": [],
   "source": [
    "import pandas as pd\n",
    "import numpy as np\n",
    "from sklearn.decomposition import PCA\n",
    "from factor_analyzer import FactorAnalyzer\n",
    "import matplotlib.pyplot as plt\n",
    "from sklearn.cluster import KMeans\n",
    "from scipy.cluster.hierarchy import dendrogram, linkage\n",
    "from sklearn.preprocessing import StandardScaler\n",
    "import seaborn as sns\n",
    "from sklearn.manifold import MDS"
   ]
  },
  {
   "cell_type": "code",
   "execution_count": 2,
   "id": "3a1055d1",
   "metadata": {},
   "outputs": [
    {
     "name": "stdout",
     "output_type": "stream",
     "text": [
      "(70, 50)\n",
      "Index(['City', 'Sex', 'Age', 'Occupation', 'Monthly Household Income',\n",
      "       'Income', 'Planning to Buy a new house', 'Time Frame',\n",
      "       'Reasons for buying a house', 'what type of House', 'Number of rooms',\n",
      "       'Size of House', 'Budget', 'Finished/Semi Finished',\n",
      "       'Influence Decision', 'Maintainance', 'EMI', '1.Proximity to city',\n",
      "       '2.Proximity to schools', '3. Proximity to transport',\n",
      "       '4. Proximity to work place', '5. Proximity to shopping',\n",
      "       '1. Gym/Pool/Sports facility', '2. Parking space', '3.Power back-up',\n",
      "       '4.Water supply', '5.Security', '1. Exterior look ', '2. Unit size',\n",
      "       '3. Interior design and branded components',\n",
      "       '4. Layout plan (Integrated etc.)', '5. View from apartment',\n",
      "       '1. Price', '2. Booking amount', '3. Equated Monthly Instalment (EMI)',\n",
      "       '4. Maintenance charges', '5. Availability of loan',\n",
      "       '1. Builder reputation', '2. Appreciation potential',\n",
      "       '3. Profile of neighbourhood', '4. Availability of domestic help',\n",
      "       'Time', 'Size', 'Budgets', 'Maintainances', 'EMI.1', 'ages', 'sex',\n",
      "       'Finished/Semi Finished.1', 'Influence Decision.1'],\n",
      "      dtype='object')\n",
      "        City Sex    Age      Occupation Monthly Household Income  Income  \\\n",
      "0  Bangalore   M  26-35  Private Sector         85,001 to105,000   95000   \n",
      "1  Bangalore   M  46-60  Government/PSU         45,001 to 65,000   55000   \n",
      "2  Bangalore   F  46-60  Government/PSU         25,001 to 45,000   35000   \n",
      "3  Bangalore   M  36-45  Private Sector                  >125000  200000   \n",
      "4  Bangalore   M  26-35   Self Employed         85,001 to105,000   95000   \n",
      "\n",
      "  Planning to Buy a new house Time Frame Reasons for buying a house  \\\n",
      "0                         Yes  6M to 1Yr                   Residing   \n",
      "1                         Yes  6M to 1Yr                 Investment   \n",
      "2                         Yes  <6 Months              Rental Income   \n",
      "3                         Yes  <6 Months                 Investment   \n",
      "4                         Yes     1-2 Yr                   Residing   \n",
      "\n",
      "  what type of House  ... 4. Availability of domestic help Time  Size Budgets  \\\n",
      "0          Apartment  ...                                1    9  1200    72.5   \n",
      "1          Apartment  ...                                2    9   800    32.5   \n",
      "2          Apartment  ...                                4    3   400    12.5   \n",
      "3          Apartment  ...                                5    3  1600   102.5   \n",
      "4          Apartment  ...                                3   18   800    52.5   \n",
      "\n",
      "  Maintainances  EMI.1  ages  sex  Finished/Semi Finished.1  \\\n",
      "0         30000  42500  30.5    M             Semifurnished   \n",
      "1           120  27500  53.0    M             Semifurnished   \n",
      "2         10000  10000  53.0    F             Semifurnished   \n",
      "3         70000  80000  40.5    M                 Furnished   \n",
      "4         30000  42500  30.5    M             Semifurnished   \n",
      "\n",
      "   Influence Decision.1  \n",
      "0           Site visits  \n",
      "1             Newspaper  \n",
      "2              Hoarding  \n",
      "3   Electronic/Internet  \n",
      "4   Electronic/Internet  \n",
      "\n",
      "[5 rows x 50 columns]\n",
      "<class 'pandas.core.frame.DataFrame'>\n",
      "RangeIndex: 70 entries, 0 to 69\n",
      "Data columns (total 50 columns):\n",
      " #   Column                                     Non-Null Count  Dtype  \n",
      "---  ------                                     --------------  -----  \n",
      " 0   City                                       70 non-null     object \n",
      " 1   Sex                                        70 non-null     object \n",
      " 2   Age                                        70 non-null     object \n",
      " 3   Occupation                                 70 non-null     object \n",
      " 4   Monthly Household Income                   70 non-null     object \n",
      " 5   Income                                     70 non-null     int64  \n",
      " 6   Planning to Buy a new house                70 non-null     object \n",
      " 7   Time Frame                                 70 non-null     object \n",
      " 8   Reasons for buying a house                 70 non-null     object \n",
      " 9   what type of House                         70 non-null     object \n",
      " 10  Number of rooms                            70 non-null     object \n",
      " 11  Size of House                              70 non-null     object \n",
      " 12  Budget                                     70 non-null     object \n",
      " 13  Finished/Semi Finished                     70 non-null     object \n",
      " 14  Influence Decision                         70 non-null     object \n",
      " 15  Maintainance                               70 non-null     object \n",
      " 16  EMI                                        70 non-null     object \n",
      " 17  1.Proximity to city                        70 non-null     int64  \n",
      " 18  2.Proximity to schools                     70 non-null     int64  \n",
      " 19  3. Proximity to transport                  70 non-null     int64  \n",
      " 20  4. Proximity to work place                 70 non-null     int64  \n",
      " 21  5. Proximity to shopping                   70 non-null     int64  \n",
      " 22  1. Gym/Pool/Sports facility                70 non-null     int64  \n",
      " 23  2. Parking space                           70 non-null     int64  \n",
      " 24  3.Power back-up                            70 non-null     int64  \n",
      " 25  4.Water supply                             70 non-null     int64  \n",
      " 26  5.Security                                 70 non-null     int64  \n",
      " 27  1. Exterior look                           70 non-null     int64  \n",
      " 28  2. Unit size                               70 non-null     int64  \n",
      " 29  3. Interior design and branded components  70 non-null     int64  \n",
      " 30  4. Layout plan (Integrated etc.)           70 non-null     int64  \n",
      " 31  5. View from apartment                     70 non-null     int64  \n",
      " 32  1. Price                                   70 non-null     int64  \n",
      " 33  2. Booking amount                          70 non-null     int64  \n",
      " 34  3. Equated Monthly Instalment (EMI)        70 non-null     int64  \n",
      " 35  4. Maintenance charges                     70 non-null     int64  \n",
      " 36  5. Availability of loan                    70 non-null     int64  \n",
      " 37  1. Builder reputation                      70 non-null     int64  \n",
      " 38  2. Appreciation potential                  70 non-null     int64  \n",
      " 39  3. Profile of neighbourhood                70 non-null     int64  \n",
      " 40  4. Availability of domestic help           70 non-null     int64  \n",
      " 41  Time                                       70 non-null     int64  \n",
      " 42  Size                                       70 non-null     int64  \n",
      " 43  Budgets                                    70 non-null     float64\n",
      " 44  Maintainances                              70 non-null     int64  \n",
      " 45  EMI.1                                      70 non-null     int64  \n",
      " 46  ages                                       70 non-null     float64\n",
      " 47  sex                                        70 non-null     object \n",
      " 48  Finished/Semi Finished.1                   70 non-null     object \n",
      " 49  Influence Decision.1                       70 non-null     object \n",
      "dtypes: float64(2), int64(29), object(19)\n",
      "memory usage: 27.5+ KB\n",
      "None\n"
     ]
    }
   ],
   "source": [
    "# Read the CSV file\n",
    "survey_df = pd.read_csv('C:/Users/poornima/Downloads/Survey.csv')\n",
    "print(survey_df.shape)\n",
    "print(survey_df.columns)\n",
    "print(survey_df.head())\n",
    "print(survey_df.info())"
   ]
  },
  {
   "cell_type": "code",
   "execution_count": 3,
   "id": "c8732bb3",
   "metadata": {},
   "outputs": [
    {
     "name": "stdout",
     "output_type": "stream",
     "text": [
      "0\n",
      "<class 'pandas.core.frame.DataFrame'>\n",
      "RangeIndex: 70 entries, 0 to 69\n",
      "Data columns (total 27 columns):\n",
      " #   Column                                     Non-Null Count  Dtype  \n",
      "---  ------                                     --------------  -----  \n",
      " 0   3. Proximity to transport                  70 non-null     int64  \n",
      " 1   4. Proximity to work place                 70 non-null     int64  \n",
      " 2   5. Proximity to shopping                   70 non-null     int64  \n",
      " 3   1. Gym/Pool/Sports facility                70 non-null     int64  \n",
      " 4   2. Parking space                           70 non-null     int64  \n",
      " 5   3.Power back-up                            70 non-null     int64  \n",
      " 6   4.Water supply                             70 non-null     int64  \n",
      " 7   5.Security                                 70 non-null     int64  \n",
      " 8   1. Exterior look                           70 non-null     int64  \n",
      " 9   2. Unit size                               70 non-null     int64  \n",
      " 10  3. Interior design and branded components  70 non-null     int64  \n",
      " 11  4. Layout plan (Integrated etc.)           70 non-null     int64  \n",
      " 12  5. View from apartment                     70 non-null     int64  \n",
      " 13  1. Price                                   70 non-null     int64  \n",
      " 14  2. Booking amount                          70 non-null     int64  \n",
      " 15  3. Equated Monthly Instalment (EMI)        70 non-null     int64  \n",
      " 16  4. Maintenance charges                     70 non-null     int64  \n",
      " 17  5. Availability of loan                    70 non-null     int64  \n",
      " 18  1. Builder reputation                      70 non-null     int64  \n",
      " 19  2. Appreciation potential                  70 non-null     int64  \n",
      " 20  3. Profile of neighbourhood                70 non-null     int64  \n",
      " 21  4. Availability of domestic help           70 non-null     int64  \n",
      " 22  Time                                       70 non-null     int64  \n",
      " 23  Size                                       70 non-null     int64  \n",
      " 24  Budgets                                    70 non-null     float64\n",
      " 25  Maintainances                              70 non-null     int64  \n",
      " 26  EMI.1                                      70 non-null     int64  \n",
      "dtypes: float64(1), int64(26)\n",
      "memory usage: 14.9 KB\n",
      "None\n"
     ]
    }
   ],
   "source": [
    "# A) Principal Component Analysis and Factor Analysis\n",
    "\n",
    "# Check for missing values\n",
    "print(survey_df.isna().sum().sum())\n",
    "\n",
    "# Select columns 20 to 46\n",
    "sur_int = survey_df.iloc[:, 19:46]\n",
    "print(sur_int.info())\n"
   ]
  },
  {
   "cell_type": "code",
   "execution_count": 4,
   "id": "1165bf54",
   "metadata": {},
   "outputs": [
    {
     "name": "stdout",
     "output_type": "stream",
     "text": [
      "[9.27394295e-01 7.25413292e-02 6.42132668e-05 1.32931069e-07\n",
      " 1.98047817e-08]\n",
      "[[-6.26497101e-02  5.34488547e-02  1.02690924e-01  5.66766290e-01\n",
      "  -1.08953457e-01]\n",
      " [ 2.14466451e-01 -2.42324039e-01 -1.56117234e-02 -5.96429978e-02\n",
      "   6.57571592e-01]\n",
      " [ 2.39691605e-02  6.46405962e-01  2.73362366e-01 -1.18424856e-01\n",
      "   1.70156016e-01]\n",
      " [ 3.55079979e-02  4.97715530e-01 -1.23070175e-01  1.75301011e-01\n",
      "   1.43681434e-01]\n",
      " [ 1.41554993e-01  4.58574266e-01 -1.52465990e-01 -3.40737293e-02\n",
      "   1.44277318e-01]\n",
      " [ 3.38511448e-02  3.24155775e-01  2.58810650e-02 -1.00512053e-01\n",
      "   5.58963339e-01]\n",
      " [ 3.34491880e-01  2.95377630e-01  3.23026249e-02  6.17495202e-01\n",
      "   1.06282875e-01]\n",
      " [-2.47295386e-01  9.63297204e-01 -8.31312369e-02  3.19566600e-01\n",
      "  -1.38278267e-01]\n",
      " [ 3.57561492e-01  4.13705722e-01  2.86870130e-01 -4.04234528e-01\n",
      "  -1.26285931e-01]\n",
      " [ 3.07274334e-01 -8.66436515e-02 -9.66132308e-02 -3.99986113e-02\n",
      "  -2.98122172e-01]\n",
      " [ 4.08980886e-01  3.85737789e-01 -4.60642235e-02 -1.09581500e-01\n",
      "   1.03988250e-01]\n",
      " [ 5.74897470e-01  7.29136562e-02 -7.79075422e-02 -1.75611556e-01\n",
      "   2.04097129e-01]\n",
      " [ 3.12395889e-01  5.92523247e-01 -2.11101617e-02 -1.10426778e-01\n",
      "  -7.72928288e-02]\n",
      " [ 4.68356328e-01 -1.08704627e-01 -7.29301132e-03  4.03941938e-01\n",
      "   7.79517639e-02]\n",
      " [ 5.50887144e-02 -5.00694709e-03  5.17347696e-01 -1.02739883e-01\n",
      "  -3.28056009e-02]\n",
      " [-1.32453483e-02 -6.09495353e-02  5.50509872e-01  3.08987796e-01\n",
      "   4.07846688e-02]\n",
      " [-1.18321002e-01 -7.97818664e-03  3.00753937e-01 -6.14183482e-03\n",
      "  -3.25593765e-02]\n",
      " [ 6.92422539e-02 -2.75819302e-01  9.09564541e-01 -5.90037026e-03\n",
      "   2.93332809e-01]\n",
      " [ 7.70507084e-01 -1.51792802e-01 -1.01497751e-01  1.80912234e-01\n",
      "  -1.27029450e-01]\n",
      " [ 3.33179000e-01  5.60118336e-02  2.70933206e-01  4.46417618e-02\n",
      "  -1.01233364e-01]\n",
      " [ 3.63381553e-01  4.82279818e-01 -1.73208768e-01  2.40515397e-01\n",
      "  -1.48347560e-01]\n",
      " [ 6.61076557e-02  7.33662622e-01  4.68093667e-02 -1.01157231e-01\n",
      "  -3.23016558e-01]\n",
      " [ 2.95639888e-02  8.30208127e-02  3.74954059e-01  6.91797507e-02\n",
      "  -2.87489286e-02]\n",
      " [ 8.09969741e-01  1.00932025e-01  8.85669090e-02  4.62822322e-03\n",
      "   2.58441423e-02]\n",
      " [ 9.14750865e-01  1.91840082e-02  6.86973959e-02  2.89293821e-02\n",
      "  -8.88122745e-04]\n",
      " [ 7.92661018e-01  1.16358054e-01  7.37530737e-02  6.30248757e-02\n",
      "   1.33920775e-01]\n",
      " [ 8.43328815e-01  5.07101427e-02 -3.97837921e-02 -5.82414720e-02\n",
      "   1.54306208e-01]]\n"
     ]
    }
   ],
   "source": [
    "# PCA\n",
    "pca = PCA(n_components=5)\n",
    "pca_result = pca.fit_transform(sur_int)\n",
    "print(pca.explained_variance_ratio_)\n",
    "\n",
    "# Factor Analysis\n",
    "fa = FactorAnalyzer(n_factors=5, rotation='promax')\n",
    "fa.fit(sur_int)\n",
    "print(fa.loadings_)"
   ]
  },
  {
   "cell_type": "code",
   "execution_count": 5,
   "id": "effcd148",
   "metadata": {},
   "outputs": [
    {
     "name": "stdout",
     "output_type": "stream",
     "text": [
      "[9.27394295e-01 7.25413292e-02 6.42132668e-05 1.32931069e-07\n",
      " 1.98047817e-08]\n"
     ]
    },
    {
     "data": {
      "image/png": "[encoded data removed]",
      "text/plain": [
       "<Figure size 1000x800 with 1 Axes>"
      ]
     },
     "metadata": {},
     "output_type": "display_data"
    }
   ],
   "source": [
    "# PCA using FactoMineR equivalent\n",
    "pca = PCA(n_components=5)\n",
    "pca_result = pca.fit_transform(sur_int)\n",
    "print(pca.explained_variance_ratio_)\n",
    "\n",
    "# Biplot\n",
    "plt.figure(figsize=(10, 8))\n",
    "plt.scatter(pca_result[:, 0], pca_result[:, 1])\n",
    "plt.xlabel('PC1')\n",
    "plt.ylabel('PC2')\n",
    "plt.title('PCA Biplot')\n",
    "plt.show()"
   ]
  },
  {
   "cell_type": "code",
   "execution_count": 1,
   "id": "e786f79a",
   "metadata": {},
   "outputs": [
    {
     "ename": "NameError",
     "evalue": "name 'sur_int' is not defined",
     "output_type": "error",
     "traceback": [
      "\u001b[1;31m---------------------------------------------------------------------------\u001b[0m",
      "\u001b[1;31mNameError\u001b[0m                                 Traceback (most recent call last)",
      "Cell \u001b[1;32mIn[1], line 10\u001b[0m\n\u001b[0;32m      8\u001b[0m \u001b[38;5;28;01mfor\u001b[39;00m i \u001b[38;5;129;01min\u001b[39;00m \u001b[38;5;28mrange\u001b[39m(\u001b[38;5;241m1\u001b[39m, \u001b[38;5;241m11\u001b[39m):\n\u001b[0;32m      9\u001b[0m     kmeans \u001b[38;5;241m=\u001b[39m KMeans(n_clusters\u001b[38;5;241m=\u001b[39mi, init\u001b[38;5;241m=\u001b[39m\u001b[38;5;124m'\u001b[39m\u001b[38;5;124mk-means++\u001b[39m\u001b[38;5;124m'\u001b[39m, max_iter\u001b[38;5;241m=\u001b[39m\u001b[38;5;241m300\u001b[39m, n_init\u001b[38;5;241m=\u001b[39m\u001b[38;5;241m10\u001b[39m, random_state\u001b[38;5;241m=\u001b[39m\u001b[38;5;241m0\u001b[39m)\n\u001b[1;32m---> 10\u001b[0m     kmeans\u001b[38;5;241m.\u001b[39mfit(sur_int)\n\u001b[0;32m     11\u001b[0m     wcss\u001b[38;5;241m.\u001b[39mappend(kmeans\u001b[38;5;241m.\u001b[39minertia_)\n\u001b[0;32m     13\u001b[0m plt\u001b[38;5;241m.\u001b[39mplot(\u001b[38;5;28mrange\u001b[39m(\u001b[38;5;241m1\u001b[39m, \u001b[38;5;241m11\u001b[39m), wcss)\n",
      "\u001b[1;31mNameError\u001b[0m: name 'sur_int' is not defined"
     ]
    }
   ],
   "source": [
    "# B) Cluster Analysis\n",
    "\n",
    "from sklearn.cluster import KMeans\n",
    "from scipy.cluster.hierarchy import dendrogram, linkage\n",
    "\n",
    "# Determine optimal number of clusters\n",
    "wcss = []\n",
    "for i in range(1, 11):\n",
    "    kmeans = KMeans(n_clusters=i, init='k-means++', max_iter=300, n_init=10, random_state=0)\n",
    "    kmeans.fit(sur_int)\n",
    "    wcss.append(kmeans.inertia_)\n",
    "\n",
    "plt.plot(range(1, 11), wcss)\n",
    "plt.title('Elbow Method')\n",
    "plt.xlabel('Number of clusters')\n",
    "plt.ylabel('WCSS')\n",
    "plt.show()\n"
   ]
  },
  {
   "cell_type": "code",
   "execution_count": 2,
   "id": "07aa0b45",
   "metadata": {},
   "outputs": [
    {
     "ename": "NameError",
     "evalue": "name 'sur_int' is not defined",
     "output_type": "error",
     "traceback": [
      "\u001b[1;31m---------------------------------------------------------------------------\u001b[0m",
      "\u001b[1;31mNameError\u001b[0m                                 Traceback (most recent call last)",
      "Cell \u001b[1;32mIn[2], line 3\u001b[0m\n\u001b[0;32m      1\u001b[0m \u001b[38;5;66;03m# K-means clustering\u001b[39;00m\n\u001b[0;32m      2\u001b[0m kmeans \u001b[38;5;241m=\u001b[39m KMeans(n_clusters\u001b[38;5;241m=\u001b[39m\u001b[38;5;241m4\u001b[39m, random_state\u001b[38;5;241m=\u001b[39m\u001b[38;5;241m123\u001b[39m)\n\u001b[1;32m----> 3\u001b[0m cluster_labels \u001b[38;5;241m=\u001b[39m kmeans\u001b[38;5;241m.\u001b[39mfit_predict(sur_int)\n\u001b[0;32m      5\u001b[0m \u001b[38;5;66;03m# Visualize clusters\u001b[39;00m\n\u001b[0;32m      6\u001b[0m plt\u001b[38;5;241m.\u001b[39mscatter(pca_result[:, \u001b[38;5;241m0\u001b[39m], pca_result[:, \u001b[38;5;241m1\u001b[39m], c\u001b[38;5;241m=\u001b[39mcluster_labels, cmap\u001b[38;5;241m=\u001b[39m\u001b[38;5;124m'\u001b[39m\u001b[38;5;124mviridis\u001b[39m\u001b[38;5;124m'\u001b[39m)\n",
      "\u001b[1;31mNameError\u001b[0m: name 'sur_int' is not defined"
     ]
    }
   ],
   "source": [
    "# K-means clustering\n",
    "kmeans = KMeans(n_clusters=4, random_state=123)\n",
    "cluster_labels = kmeans.fit_predict(sur_int)\n",
    "\n",
    "# Visualize clusters\n",
    "plt.scatter(pca_result[:, 0], pca_result[:, 1], c=cluster_labels, cmap='viridis')\n",
    "plt.xlabel('PC1')\n",
    "plt.ylabel('PC2')\n",
    "plt.title('K-means Clustering')\n",
    "plt.show()"
   ]
  },
  {
   "cell_type": "code",
   "execution_count": 8,
   "id": "debfd52f",
   "metadata": {},
   "outputs": [
    {
     "data": {
      "image/png": "[encoded data removed]",
      "text/plain": [
       "<Figure size 640x480 with 1 Axes>"
      ]
     },
     "metadata": {},
     "output_type": "display_data"
    },
    {
     "data": {
      "image/png": "[encoded data removed]",
      "text/plain": [
       "<Figure size 640x480 with 2 Axes>"
      ]
     },
     "metadata": {},
     "output_type": "display_data"
    }
   ],
   "source": [
    "# Hierarchical clustering\n",
    "linkage_matrix = linkage(sur_int, method='ward')\n",
    "dendrogram(linkage_matrix)\n",
    "plt.title('Hierarchical Clustering Dendrogram')\n",
    "plt.show()\n",
    "\n",
    "# Heatmap\n",
    "sns.heatmap(sur_int.T, cmap='YlGnBu')\n",
    "plt.title('Heatmap of Survey Data')\n",
    "plt.show()"
   ]
  },
  {
   "cell_type": "code",
   "execution_count": 9,
   "id": "add42b9c",
   "metadata": {},
   "outputs": [
    {
     "name": "stdout",
     "output_type": "stream",
     "text": [
      "[[-0.08623576 -0.08097401  0.05315631  0.53865207]\n",
      " [-0.04707895  0.2817126  -0.01654391 -0.01672452]\n",
      " [ 0.6905913   0.14264745  0.28810838 -0.06920569]\n",
      " [ 0.46651738  0.16352419 -0.12485363  0.23247143]\n",
      " [ 0.51962226  0.24855044 -0.14283398  0.03864645]\n",
      " [ 0.36211264  0.23805115  0.04245436 -0.02913032]\n",
      " [ 0.34740792  0.36086054 -0.03312095  0.66001612]\n",
      " [ 0.75282619 -0.10094501 -0.08332     0.38469031]\n",
      " [ 0.67108356  0.29439858  0.30171479 -0.34424643]\n",
      " [ 0.06500835  0.14963681 -0.10846898 -0.01470873]\n",
      " [ 0.61153681  0.43213105 -0.04932627 -0.02471042]\n",
      " [ 0.40487718  0.55433415 -0.08677656 -0.09343655]\n",
      " [ 0.75646745  0.3287391  -0.0179094  -0.02725861]\n",
      " [ 0.05460304  0.40691287 -0.06720388  0.43833868]\n",
      " [ 0.080124   -0.01917882  0.51626193 -0.1381047 ]\n",
      " [-0.0867624  -0.05489172  0.52029275  0.24907907]\n",
      " [-0.04512192 -0.14102083  0.30281759 -0.048089  ]\n",
      " [-0.14555111  0.0072217   0.87170744 -0.09429573]\n",
      " [ 0.20355549  0.57780859 -0.15702556  0.23438127]\n",
      " [ 0.23101553  0.22844068  0.24361674  0.05177757]\n",
      " [ 0.5904184   0.35180311 -0.20362074  0.32157554]\n",
      " [ 0.74103068  0.07590539  0.06017516 -0.0388462 ]\n",
      " [ 0.11070877 -0.00878749  0.36237793  0.04191578]\n",
      " [ 0.51027795  0.70132348  0.04806901  0.08350157]\n",
      " [ 0.47559395  0.7694505   0.01848199  0.10905569]\n",
      " [ 0.50888983  0.72760513  0.03195275  0.1457926 ]\n",
      " [ 0.48765689  0.7754838  -0.0744508   0.03392311]]\n"
     ]
    }
   ],
   "source": [
    "# Factor Analysis\n",
    "fa = FactorAnalyzer(n_factors=4, rotation='varimax')\n",
    "fa.fit(sur_int)\n",
    "loadings = fa.loadings_\n",
    "print(loadings)"
   ]
  },
  {
   "cell_type": "code",
   "execution_count": 10,
   "id": "122e3fd4",
   "metadata": {},
   "outputs": [
    {
     "name": "stdout",
     "output_type": "stream",
     "text": [
      "(10, 7)\n",
      "Index(['Brand', 'Price', 'Availability', 'Taste', 'Flavour', 'Consistency',\n",
      "       'Shelflife'],\n",
      "      dtype='object')\n"
     ]
    },
    {
     "data": {
      "image/png": "[encoded data removed]",
      "text/plain": [
       "<Figure size 1000x800 with 1 Axes>"
      ]
     },
     "metadata": {},
     "output_type": "display_data"
    }
   ],
   "source": [
    "# C) Multidimensional Scaling\n",
    "\n",
    "icecream_df = pd.read_csv('C:\\\\Users\\\\anjel\\\\Downloads\\\\icecream.csv')\n",
    "print(icecream_df.shape)\n",
    "print(icecream_df.columns)\n",
    "\n",
    "ice = icecream_df.drop('Brand', axis=1)\n",
    "distance_matrix = pd.DataFrame(ice).corr().values\n",
    "\n",
    "mds = MDS(n_components=2, dissimilarity='precomputed', random_state=42)\n",
    "mds_result = mds.fit_transform(distance_matrix)\n",
    "\n",
    "plt.figure(figsize=(10, 8))\n",
    "plt.scatter(mds_result[:, 0], mds_result[:, 1])\n",
    "plt.xlabel('Dimension 1')\n",
    "plt.ylabel('Dimension 2')\n",
    "plt.title('MDS Plot')\n",
    "plt.show()"
   ]
  },
  {
   "cell_type": "code",
   "execution_count": 11,
   "id": "b1a4bb40",
   "metadata": {},
   "outputs": [],
   "source": [
    "import pandas as pd, numpy as np\n",
    "\n"
   ]
  },
  {
   "cell_type": "code",
   "execution_count": 14,
   "id": "fae1c710",
   "metadata": {},
   "outputs": [],
   "source": [
    "# Read the CSV file\n",
    "df = pd.read_csv('C:/Users/poornima/Downloads/pizza_data.csv')"
   ]
  },
  {
   "cell_type": "code",
   "execution_count": 15,
   "id": "e6b5559b",
   "metadata": {},
   "outputs": [
    {
     "name": "stdout",
     "output_type": "stream",
     "text": [
      "                            OLS Regression Results                            \n",
      "==============================================================================\n",
      "Dep. Variable:                ranking   R-squared:                       0.999\n",
      "Model:                            OLS   Adj. R-squared:                  0.989\n",
      "Method:                 Least Squares   F-statistic:                     97.07\n",
      "Date:                Sun, 07 Jul 2024   Prob (F-statistic):             0.0794\n",
      "Time:                        23:17:20   Log-Likelihood:                 10.568\n",
      "No. Observations:                  16   AIC:                             8.864\n",
      "Df Residuals:                       1   BIC:                             20.45\n",
      "Df Model:                          14                                         \n",
      "Covariance Type:            nonrobust                                         \n",
      "================================================================================================\n",
      "                                   coef    std err          t      P>|t|      [0.025      0.975]\n",
      "------------------------------------------------------------------------------------------------\n",
      "Intercept                        8.5000      0.125     68.000      0.009       6.912      10.088\n",
      "C(brand, Sum)[S.Dominos]      -1.11e-15      0.217  -5.13e-15      1.000      -2.751       2.751\n",
      "C(brand, Sum)[S.Onesta]       7.327e-15      0.217   3.38e-14      1.000      -2.751       2.751\n",
      "C(brand, Sum)[S.Oven Story]     -0.2500      0.217     -1.155      0.454      -3.001       2.501\n",
      "C(price, Sum)[S.$1.00]           0.7500      0.217      3.464      0.179      -2.001       3.501\n",
      "C(price, Sum)[S.$2.00]       -9.992e-15      0.217  -4.62e-14      1.000      -2.751       2.751\n",
      "C(price, Sum)[S.$3.00]        3.997e-15      0.217   1.85e-14      1.000      -2.751       2.751\n",
      "C(weight, Sum)[S.100g]           5.0000      0.217     23.094      0.028       2.249       7.751\n",
      "C(weight, Sum)[S.200g]           2.0000      0.217      9.238      0.069      -0.751       4.751\n",
      "C(weight, Sum)[S.300g]          -1.2500      0.217     -5.774      0.109      -4.001       1.501\n",
      "C(crust, Sum)[S.thick]           1.7500      0.125     14.000      0.045       0.162       3.338\n",
      "C(cheese, Sum)[S.Cheddar]       -0.2500      0.125     -2.000      0.295      -1.838       1.338\n",
      "C(size, Sum)[S.large]           -0.2500      0.125     -2.000      0.295      -1.838       1.338\n",
      "C(toppings, Sum)[S.mushroom]     1.1250      0.125      9.000      0.070      -0.463       2.713\n",
      "C(spicy, Sum)[S.extra]           0.7500      0.125      6.000      0.105      -0.838       2.338\n",
      "==============================================================================\n",
      "Omnibus:                       30.796   Durbin-Watson:                   2.000\n",
      "Prob(Omnibus):                  0.000   Jarque-Bera (JB):                2.667\n",
      "Skew:                           0.000   Prob(JB):                        0.264\n",
      "Kurtosis:                       1.000   Cond. No.                         2.00\n",
      "==============================================================================\n",
      "\n",
      "Notes:\n",
      "[1] Standard Errors assume that the covariance matrix of the errors is correctly specified.\n"
     ]
    },
    {
     "name": "stderr",
     "output_type": "stream",
     "text": [
      "C:\\Users\\anjel\\anaconda3\\Lib\\site-packages\\scipy\\stats\\_stats_py.py:1806: UserWarning: kurtosistest only valid for n>=20 ... continuing anyway, n=16\n",
      "  warnings.warn(\"kurtosistest only valid for n>=20 ... continuing \"\n"
     ]
    }
   ],
   "source": [
    "import statsmodels.api as sm\n",
    "import statsmodels.formula.api as smf\n",
    "\n",
    "model='ranking ~ C(brand,Sum)+C(price,Sum)+C(weight,Sum)+C(crust,Sum)+C(cheese,Sum)+C(size,Sum)+C(toppings,Sum)+C(spicy,Sum)'\n",
    "model_fit=smf.ols(model,data=df).fit()\n",
    "print(model_fit.summary())"
   ]
  },
  {
   "cell_type": "code",
   "execution_count": 16,
   "id": "d0595669",
   "metadata": {},
   "outputs": [],
   "source": [
    "conjoint_attributes = ['brand','price','weight','crust','cheese','size','toppings','spicy']"
   ]
  },
  {
   "cell_type": "code",
   "execution_count": 17,
   "id": "8713ee49",
   "metadata": {},
   "outputs": [
    {
     "name": "stdout",
     "output_type": "stream",
     "text": [
      "brand\n",
      "price\n",
      "weight\n",
      "crust\n",
      "cheese\n",
      "size\n",
      "toppings\n",
      "spicy\n",
      "-------------------------------------------------------------\n",
      "level name:\n",
      "[['Dominos', 'Onesta', 'Oven Story', 'Pizza hut'], ['$1.00', '$2.00', '$3.00', '$4.00'], ['100g', '200g', '300g', '400g'], ['thick', 'thin'], ['Cheddar', 'Mozzarella'], ['large', 'regular'], ['mushroom', 'paneer'], ['extra', 'normal']]\n",
      "npw with sum element:\n",
      "[0.749999999999999, -0.749999999999999]\n",
      "imp level:\n",
      "{'brand': 3, 'price': 0, 'weight': 0, 'crust': 0, 'cheese': 1, 'size': 1, 'toppings': 0, 'spicy': 0}\n",
      "part worth:\n",
      "[[-1.1102230246251565e-15, 7.327471962526033e-15, -0.25000000000000555, 0.24999999999999933], [0.7500000000000084, -9.992007221626409e-15, 3.9968028886505635e-15, -0.7500000000000024], [5.0, 1.9999999999999973, -1.2499999999999947, -5.750000000000003], [1.7499999999999996, -1.7499999999999996], [-0.2500000000000001, 0.2500000000000001], [-0.24999999999999883, 0.24999999999999883], [1.1249999999999978, -1.1249999999999978], [0.749999999999999, -0.749999999999999]]\n",
      "part_worth_range:\n",
      "[0.5000000000000049, 1.5000000000000109, 10.750000000000004, 3.499999999999999, 0.5000000000000002, 0.49999999999999767, 2.2499999999999956, 1.499999999999998]\n",
      "8\n",
      "important levels:\n",
      "{'brand': 3, 'price': 0, 'weight': 0, 'crust': 0, 'cheese': 1, 'size': 1, 'toppings': 0, 'spicy': 0}\n"
     ]
    }
   ],
   "source": [
    "level_name = []\n",
    "part_worth = []\n",
    "part_worth_range = []\n",
    "important_levels = {}\n",
    "end = 1  # Initialize index for coefficient in params\n",
    "\n",
    "for item in conjoint_attributes:\n",
    "    nlevels = len(list(np.unique(df[item])))\n",
    "    level_name.append(list(np.unique(df[item])))\n",
    "    \n",
    "    begin = end\n",
    "    end = begin + nlevels -1\n",
    "    \n",
    "    new_part_worth = list(model_fit.params[begin:end])\n",
    "    new_part_worth.append((-1)*sum(new_part_worth))\n",
    "    important_levels[item] = np.argmax(new_part_worth)\n",
    "    part_worth.append(new_part_worth)\n",
    "    print(item)\n",
    "    #print(part_worth)\n",
    "    part_worth_range.append(max(new_part_worth) - min(new_part_worth))\n",
    "    # next iteration\n",
    "print(\"-------------------------------------------------------------\")\n",
    "print(\"level name:\")\n",
    "print(level_name)\n",
    "print(\"npw with sum element:\")\n",
    "print(new_part_worth)\n",
    "print(\"imp level:\")\n",
    "print(important_levels)\n",
    "print(\"part worth:\")\n",
    "print(part_worth)\n",
    "print(\"part_worth_range:\")\n",
    "print(part_worth_range)\n",
    "print(len(part_worth))\n",
    "print(\"important levels:\")\n",
    "print(important_levels)"
   ]
  },
  {
   "cell_type": "code",
   "execution_count": 18,
   "id": "a1ea5239",
   "metadata": {},
   "outputs": [
    {
     "name": "stdout",
     "output_type": "stream",
     "text": [
      "[2.38, 7.14, 51.19, 16.67, 2.38, 2.38, 10.71, 7.14]\n"
     ]
    }
   ],
   "source": [
    "attribute_importance = []\n",
    "for i in part_worth_range:\n",
    "    #print(i)\n",
    "    attribute_importance.append(round(100*(i/sum(part_worth_range)),2))\n",
    "print(attribute_importance)"
   ]
  },
  {
   "cell_type": "code",
   "execution_count": 19,
   "id": "1bd97c79",
   "metadata": {},
   "outputs": [
    {
     "name": "stdout",
     "output_type": "stream",
     "text": [
      "Attribute : brand\n",
      "    Relative importance of attribute  2.38\n",
      "    Level wise part worths: \n",
      "0\n",
      "0\n",
      "          Dominos:-1.1102230246251565e-15\n",
      "0\n",
      "1\n",
      "          Onesta:7.327471962526033e-15\n",
      "0\n",
      "2\n",
      "          Oven Story:-0.25000000000000555\n",
      "0\n",
      "3\n",
      "          Pizza hut:0.24999999999999933\n",
      "Attribute : price\n",
      "    Relative importance of attribute  7.14\n",
      "    Level wise part worths: \n",
      "1\n",
      "0\n",
      "          $1.00:0.7500000000000084\n",
      "1\n",
      "1\n",
      "          $2.00:-9.992007221626409e-15\n",
      "1\n",
      "2\n",
      "          $3.00:3.9968028886505635e-15\n",
      "1\n",
      "3\n",
      "          $4.00:-0.7500000000000024\n",
      "Attribute : weight\n",
      "    Relative importance of attribute  51.19\n",
      "    Level wise part worths: \n",
      "2\n",
      "0\n",
      "          100g:5.0\n",
      "2\n",
      "1\n",
      "          200g:1.9999999999999973\n",
      "2\n",
      "2\n",
      "          300g:-1.2499999999999947\n",
      "2\n",
      "3\n",
      "          400g:-5.750000000000003\n",
      "Attribute : crust\n",
      "    Relative importance of attribute  16.67\n",
      "    Level wise part worths: \n",
      "3\n",
      "0\n",
      "          thick:1.7499999999999996\n",
      "3\n",
      "1\n",
      "          thin:-1.7499999999999996\n",
      "Attribute : cheese\n",
      "    Relative importance of attribute  2.38\n",
      "    Level wise part worths: \n",
      "4\n",
      "0\n",
      "          Cheddar:-0.2500000000000001\n",
      "4\n",
      "1\n",
      "          Mozzarella:0.2500000000000001\n",
      "Attribute : size\n",
      "    Relative importance of attribute  2.38\n",
      "    Level wise part worths: \n",
      "5\n",
      "0\n",
      "          large:-0.24999999999999883\n",
      "5\n",
      "1\n",
      "          regular:0.24999999999999883\n",
      "Attribute : toppings\n",
      "    Relative importance of attribute  10.71\n",
      "    Level wise part worths: \n",
      "6\n",
      "0\n",
      "          mushroom:1.1249999999999978\n",
      "6\n",
      "1\n",
      "          paneer:-1.1249999999999978\n",
      "Attribute : spicy\n",
      "    Relative importance of attribute  7.14\n",
      "    Level wise part worths: \n",
      "7\n",
      "0\n",
      "          extra:0.749999999999999\n",
      "7\n",
      "1\n",
      "          normal:-0.749999999999999\n"
     ]
    },
    {
     "data": {
      "text/plain": [
       "{'Dominos': -1.1102230246251565e-15,\n",
       " 'Onesta': 7.327471962526033e-15,\n",
       " 'Oven Story': -0.25000000000000555,\n",
       " 'Pizza hut': 0.24999999999999933,\n",
       " '$1.00': 0.7500000000000084,\n",
       " '$2.00': -9.992007221626409e-15,\n",
       " '$3.00': 3.9968028886505635e-15,\n",
       " '$4.00': -0.7500000000000024,\n",
       " '100g': 5.0,\n",
       " '200g': 1.9999999999999973,\n",
       " '300g': -1.2499999999999947,\n",
       " '400g': -5.750000000000003,\n",
       " 'thick': 1.7499999999999996,\n",
       " 'thin': -1.7499999999999996,\n",
       " 'Cheddar': -0.2500000000000001,\n",
       " 'Mozzarella': 0.2500000000000001,\n",
       " 'large': -0.24999999999999883,\n",
       " 'regular': 0.24999999999999883,\n",
       " 'mushroom': 1.1249999999999978,\n",
       " 'paneer': -1.1249999999999978,\n",
       " 'extra': 0.749999999999999,\n",
       " 'normal': -0.749999999999999}"
      ]
     },
     "execution_count": 19,
     "metadata": {},
     "output_type": "execute_result"
    }
   ],
   "source": [
    "part_worth_dict={}\n",
    "attrib_level={}\n",
    "for item,i in zip(conjoint_attributes,range(0,len(conjoint_attributes))):\n",
    "    print(\"Attribute :\",item)\n",
    "    print(\"    Relative importance of attribute \",attribute_importance[i])\n",
    "    print(\"    Level wise part worths: \")\n",
    "    for j in range(0,len(level_name[i])):\n",
    "        print(i)\n",
    "        print(j)\n",
    "        print(\"          {}:{}\".format(level_name[i][j],part_worth[i][j]))\n",
    "        part_worth_dict[level_name[i][j]]=part_worth[i][j]\n",
    "        attrib_level[item]=(level_name[i])\n",
    "        #print(j)\n",
    "part_worth_dict"
   ]
  },
  {
   "cell_type": "code",
   "execution_count": 3,
   "id": "7d0946c2",
   "metadata": {},
   "outputs": [
    {
     "ename": "NameError",
     "evalue": "name 'conjoint_attributes' is not defined",
     "output_type": "error",
     "traceback": [
      "\u001b[1;31m---------------------------------------------------------------------------\u001b[0m",
      "\u001b[1;31mNameError\u001b[0m                                 Traceback (most recent call last)",
      "Cell \u001b[1;32mIn[3], line 4\u001b[0m\n\u001b[0;32m      2\u001b[0m \u001b[38;5;28;01mimport\u001b[39;00m \u001b[38;5;21;01mseaborn\u001b[39;00m \u001b[38;5;28;01mas\u001b[39;00m \u001b[38;5;21;01msns\u001b[39;00m\n\u001b[0;32m      3\u001b[0m plt\u001b[38;5;241m.\u001b[39mfigure(figsize\u001b[38;5;241m=\u001b[39m(\u001b[38;5;241m10\u001b[39m,\u001b[38;5;241m5\u001b[39m))\n\u001b[1;32m----> 4\u001b[0m sns\u001b[38;5;241m.\u001b[39mbarplot(x\u001b[38;5;241m=\u001b[39mconjoint_attributes,y\u001b[38;5;241m=\u001b[39mattribute_importance)\n\u001b[0;32m      5\u001b[0m plt\u001b[38;5;241m.\u001b[39mtitle(\u001b[38;5;124m'\u001b[39m\u001b[38;5;124mRelative importance of attributes\u001b[39m\u001b[38;5;124m'\u001b[39m)\n\u001b[0;32m      6\u001b[0m plt\u001b[38;5;241m.\u001b[39mxlabel(\u001b[38;5;124m'\u001b[39m\u001b[38;5;124mAttributes\u001b[39m\u001b[38;5;124m'\u001b[39m)\n",
      "\u001b[1;31mNameError\u001b[0m: name 'conjoint_attributes' is not defined"
     ]
    },
    {
     "data": {
      "text/plain": [
       "<Figure size 1000x500 with 0 Axes>"
      ]
     },
     "metadata": {},
     "output_type": "display_data"
    }
   ],
   "source": [
    "import matplotlib.pyplot as plt\n",
    "import seaborn as sns\n",
    "plt.figure(figsize=(10,5))\n",
    "sns.barplot(x=conjoint_attributes,y=attribute_importance)\n",
    "plt.title('Relative importance of attributes')\n",
    "plt.xlabel('Attributes')\n",
    "plt.ylabel('Importance')"
   ]
  },
  {
   "cell_type": "code",
   "execution_count": 21,
   "id": "4e73a2c3",
   "metadata": {},
   "outputs": [
    {
     "data": {
      "text/plain": [
       "[2.6250000000000093,\n",
       " 3.3750000000000044,\n",
       " 0.37500000000000033,\n",
       " -6.375000000000003,\n",
       " -0.37500000000000944,\n",
       " 4.375000000000007,\n",
       " -1.3749999999999791,\n",
       " -4.624999999999996,\n",
       " -3.6250000000000147,\n",
       " 7.6249999999999885,\n",
       " -5.3749999999999885,\n",
       " -2.3750000000000133,\n",
       " 1.3750000000000053,\n",
       " 6.374999999999997,\n",
       " -7.625000000000003,\n",
       " 5.624999999999996]"
      ]
     },
     "execution_count": 21,
     "metadata": {},
     "output_type": "execute_result"
    }
   ],
   "source": [
    "utility = []\n",
    "for i in range(df.shape[0]):\n",
    "    score = part_worth_dict[df['brand'][i]]+part_worth_dict[df['price'][i]]+part_worth_dict[df['weight'][i]]+part_worth_dict[df['crust'][i]]+part_worth_dict[df['cheese'][i]]+part_worth_dict[df['size'][i]]+part_worth_dict[df['toppings'][i]]+part_worth_dict[df['spicy'][i]]\n",
    "    utility.append(score)\n",
    "    \n",
    "df['utility'] = utility\n",
    "utility"
   ]
  },
  {
   "cell_type": "code",
   "execution_count": 22,
   "id": "c5cd5125",
   "metadata": {},
   "outputs": [
    {
     "name": "stdout",
     "output_type": "stream",
     "text": [
      "The profile that has the highest utility score : \n",
      " brand       Oven Story\n",
      "price            $4.00\n",
      "weight            100g\n",
      "crust            thick\n",
      "cheese      Mozzarella\n",
      "size             large\n",
      "toppings      mushroom\n",
      "spicy            extra\n",
      "ranking             16\n",
      "utility          7.625\n",
      "Name: 9, dtype: object\n"
     ]
    }
   ],
   "source": [
    "print(\"The profile that has the highest utility score :\",'\\n', df.iloc[np.argmax(utility)])"
   ]
  },
  {
   "cell_type": "code",
   "execution_count": 23,
   "id": "c51a4aa4",
   "metadata": {},
   "outputs": [
    {
     "name": "stdout",
     "output_type": "stream",
     "text": [
      "Preferred level in brand is :: Pizza hut\n",
      "Preferred level in price is :: $1.00\n",
      "Preferred level in weight is :: 100g\n",
      "Preferred level in crust is :: thick\n",
      "Preferred level in cheese is :: Mozzarella\n",
      "Preferred level in size is :: regular\n",
      "Preferred level in toppings is :: mushroom\n",
      "Preferred level in spicy is :: extra\n"
     ]
    }
   ],
   "source": [
    "for i,j in zip(attrib_level.keys(),range(0,len(conjoint_attributes))):\n",
    "    #print(i)\n",
    "    #level_name[j]\n",
    "    print(\"Preferred level in {} is :: {}\".format(i,level_name[j][important_levels[i]]))"
   ]
  },
  {
   "cell_type": "code",
   "execution_count": null,
   "id": "2941f8a7",
   "metadata": {},
   "outputs": [],
   "source": []
  }
 ],
 "metadata": {
  "kernelspec": {
   "display_name": "Python 3 (ipykernel)",
   "language": "python",
   "name": "python3"
  },
  "language_info": {
   "codemirror_mode": {
    "name": "ipython",
    "version": 3
   },
   "file_extension": ".py",
   "mimetype": "text/x-python",
   "name": "python",
   "nbconvert_exporter": "python",
   "pygments_lexer": "ipython3",
   "version": "3.11.7"
  }
 },
 "nbformat": 4,
 "nbformat_minor": 5
}
